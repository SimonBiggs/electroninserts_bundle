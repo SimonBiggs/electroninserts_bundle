{
 "cells": [
  {
   "cell_type": "markdown",
   "metadata": {},
   "source": [
    "# Example shape parameterisation"
   ]
  },
  {
   "cell_type": "code",
   "execution_count": 1,
   "metadata": {
    "ExecuteTime": {
     "end_time": "2016-05-11T22:37:22.419277",
     "start_time": "2016-05-11T22:37:21.755521"
    },
    "collapsed": false
   },
   "outputs": [
    {
     "name": "stdout",
     "output_type": "stream",
     "text": [
      "All modules and functions successfully imported.\n"
     ]
    }
   ],
   "source": [
    "import re\n",
    "\n",
    "import numpy as np\n",
    "import dicom\n",
    "\n",
    "import matplotlib.pyplot as plt\n",
    "%matplotlib inline\n",
    "\n",
    "from electroninserts import (\n",
    "    parameterise_single_insert, display_parameterisation)\n",
    "\n",
    "print(\"All modules and functions successfully imported.\")"
   ]
  },
  {
   "cell_type": "code",
   "execution_count": 2,
   "metadata": {
    "collapsed": false
   },
   "outputs": [
    {
     "name": "stdout",
     "output_type": "stream",
     "text": [
      "Requirement already up-to-date: version_information in c:\\users\\sbiggs\\appdata\\local\\continuum\\anaconda3\\envs\\electroninserts\\lib\\site-packages\n"
     ]
    },
    {
     "data": {
      "application/json": {
       "Software versions": [
        {
         "module": "Python",
         "version": "3.5.2 64bit [MSC v.1900 64 bit (AMD64)]"
        },
        {
         "module": "IPython",
         "version": "5.0.0"
        },
        {
         "module": "OS",
         "version": "Windows 7 6.1.7601 SP1"
        },
        {
         "module": "dicom",
         "version": "0.9.9"
        },
        {
         "module": "electroninserts",
         "version": "0.1.0"
        },
        {
         "module": "re",
         "version": "2.2.1"
        },
        {
         "module": "numpy",
         "version": "1.11.1"
        },
        {
         "module": "matplotlib",
         "version": "1.5.1"
        },
        {
         "module": "version_information",
         "version": "1.0.3"
        }
       ]
      },
      "text/html": [
       "<table><tr><th>Software</th><th>Version</th></tr><tr><td>Python</td><td>3.5.2 64bit [MSC v.1900 64 bit (AMD64)]</td></tr><tr><td>IPython</td><td>5.0.0</td></tr><tr><td>OS</td><td>Windows 7 6.1.7601 SP1</td></tr><tr><td>dicom</td><td>0.9.9</td></tr><tr><td>electroninserts</td><td>0.1.0</td></tr><tr><td>re</td><td>2.2.1</td></tr><tr><td>numpy</td><td>1.11.1</td></tr><tr><td>matplotlib</td><td>1.5.1</td></tr><tr><td>version_information</td><td>1.0.3</td></tr><tr><td colspan='2'>Fri Aug 05 15:04:23 2016 AUS Eastern Standard Time</td></tr></table>"
      ],
      "text/latex": [
       "\\begin{tabular}{|l|l|}\\hline\n",
       "{\\bf Software} & {\\bf Version} \\\\ \\hline\\hline\n",
       "Python & 3.5.2 64bit [MSC v.1900 64 bit (AMD64)] \\\\ \\hline\n",
       "IPython & 5.0.0 \\\\ \\hline\n",
       "OS & Windows 7 6.1.7601 SP1 \\\\ \\hline\n",
       "dicom & 0.9.9 \\\\ \\hline\n",
       "electroninserts & 0.1.0 \\\\ \\hline\n",
       "re & 2.2.1 \\\\ \\hline\n",
       "numpy & 1.11.1 \\\\ \\hline\n",
       "matplotlib & 1.5.1 \\\\ \\hline\n",
       "version_information & 1.0.3 \\\\ \\hline\n",
       "\\hline \\multicolumn{2}{|l|}{Fri Aug 05 15:04:23 2016 AUS Eastern Standard Time} \\\\ \\hline\n",
       "\\end{tabular}\n"
      ],
      "text/plain": [
       "Software versions\n",
       "Python 3.5.2 64bit [MSC v.1900 64 bit (AMD64)]\n",
       "IPython 5.0.0\n",
       "OS Windows 7 6.1.7601 SP1\n",
       "dicom 0.9.9\n",
       "electroninserts 0.1.0\n",
       "re 2.2.1\n",
       "numpy 1.11.1\n",
       "matplotlib 1.5.1\n",
       "version_information 1.0.3\n",
       "Fri Aug 05 15:04:23 2016 AUS Eastern Standard Time"
      ]
     },
     "execution_count": 2,
     "metadata": {},
     "output_type": "execute_result"
    }
   ],
   "source": [
    "# !pip install --upgrade version_information\n",
    "# %load_ext version_information\n",
    "# %version_information dicom, electroninserts, re, numpy, matplotlib, version_information"
   ]
  },
  {
   "cell_type": "markdown",
   "metadata": {},
   "source": [
    "## Parameterising shapes\n",
    "\n",
    "Three options to parameterise shapes are given below; from raw coordinates, from an RT-DICOM file, or from a Monaco&reg; 5.10 `tel.1` file.\n",
    "\n",
    "There is also a placeholder for importing directly from Eclipse&trade;. Please [let me know](mailto:mail@simonbiggs.net)  if someone with access to Eclipse&trade; achieves this."
   ]
  },
  {
   "cell_type": "markdown",
   "metadata": {},
   "source": [
    "### From coordinates"
   ]
  },
  {
   "cell_type": "code",
   "execution_count": 3,
   "metadata": {
    "ExecuteTime": {
     "end_time": "2016-05-11T22:37:27.371017",
     "start_time": "2016-05-11T22:37:22.420279"
    },
    "collapsed": false
   },
   "outputs": [
    {
     "name": "stdout",
     "output_type": "stream",
     "text": [
      "Width = 6.53 cm\n",
      "Length = 10.99 cm\n"
     ]
    },
    {
     "data": {
      "image/png": "[encoded data removed]",
      "text/plain": [
       "<matplotlib.figure.Figure at 0xcc7710>"
      ]
     },
     "metadata": {},
     "output_type": "display_data"
    }
   ],
   "source": [
    "x = [0.99, -0.14, -1.0, -1.73, -2.56, -3.17, -3.49, -3.57, -3.17, -2.52, -1.76,\n",
    "    -1.04, -0.17, 0.77, 1.63, 2.36, 2.79, 2.91, 3.04, 3.22, 3.34, 3.37, 3.08, 2.54,\n",
    "    1.88, 1.02, 0.99]\n",
    "y = [5.05, 4.98, 4.42, 3.24, 1.68, 0.6, -0.64, -1.48, -2.38, -3.77, -4.81,\n",
    "    -5.26, -5.51, -5.58, -5.23, -4.64, -3.77, -2.77, -1.68, -0.29, 1.23, 2.68, 3.8,\n",
    "    4.6, 5.01, 5.08, 5.05]\n",
    "\n",
    "width, length, poi = parameterise_single_insert(x, y)\n",
    "print(\"Width = {0:0.2f} cm\\nLength = {1:0.2f} cm\".format(width, length))\n",
    "\n",
    "display_parameterisation(x, y, width, length, poi)"
   ]
  },
  {
   "cell_type": "markdown",
   "metadata": {},
   "source": [
    "### From RT-DICOM\n",
    "\n",
    "If you are using the online version of this notebook you will likely want to deidentify your dicom files. http://www.dicompyler.com/ can be used to do this however I am not in a position to guarantee it will do this adequately. You need to check this yourself.\n",
    "\n",
    "To upload the dicom file go to [notebook home](../tree) and click the \"upload button\" located at the top right of the dashboard."
   ]
  },
  {
   "cell_type": "code",
   "execution_count": 4,
   "metadata": {
    "ExecuteTime": {
     "end_time": "2016-05-11T22:37:31.991311",
     "start_time": "2016-05-11T22:37:27.372215"
    },
    "collapsed": false
   },
   "outputs": [
    {
     "name": "stdout",
     "output_type": "stream",
     "text": [
      "Applicator = 10X10 (identifier name)\n",
      "Energy = 12.0 (nominal)\n",
      "SSD = 1001.0 (dicom units)\n",
      "\n",
      "Width = 4.11 cm\n",
      "Length = 9.52 cm\n"
     ]
    },
    {
     "data": {
      "image/png": "[encoded data removed]",
      "text/plain": [
       "<matplotlib.figure.Figure at 0xae6b7f0>"
      ]
     },
     "metadata": {},
     "output_type": "display_data"
    }
   ],
   "source": [
    "# Change this name to match the dicom file located in the same directory\n",
    "# as this notebook.\n",
    "dicom_filename = \"example_dicom_file.dcm\"  \n",
    "\n",
    "dcm = dicom.read_file(dicom_filename, force=True)\n",
    "applicator_string = dcm.BeamSequence[0].ApplicatorSequence[0].ApplicatorID\n",
    "energy_string = dcm.BeamSequence[0].ControlPointSequence[0].NominalBeamEnergy\n",
    "ssd_string = dcm.BeamSequence[0].ControlPointSequence[0].SourceToSurfaceDistance\n",
    "\n",
    "print(\"Applicator = {} (identifier name)\".format(applicator_string))\n",
    "print(\"Energy = {} (nominal)\".format(energy_string))\n",
    "print(\"SSD = {} (dicom units)\\n\".format(ssd_string))\n",
    "\n",
    "block_data = np.array(dcm.BeamSequence[0].BlockSequence[0].BlockData)\n",
    "x = np.array(block_data[0::2]).astype(float)/10\n",
    "y = np.array(block_data[1::2]).astype(float)/10\n",
    "\n",
    "width, length, poi = parameterise_single_insert(x, y)\n",
    "print(\"Width = {0:0.2f} cm\".format(width))\n",
    "print(\"Length = {0:0.2f} cm\".format(length))\n",
    "\n",
    "display_parameterisation(x, y, width, length, poi)"
   ]
  },
  {
   "cell_type": "markdown",
   "metadata": {},
   "source": [
    "### Directly from Monaco&reg; 5.10 server\n",
    "\n",
    "The following code is an example of what can be used to automatically pull and parameterise shapes from the server based off of patient ID. For use in other centres it will need adjustment."
   ]
  },
  {
   "cell_type": "code",
   "execution_count": 5,
   "metadata": {
    "ExecuteTime": {
     "end_time": "2016-05-11T22:37:31.995010",
     "start_time": "2016-05-11T22:37:31.992682"
    },
    "collapsed": true
   },
   "outputs": [],
   "source": [
    "# patientID = '00000'.zfill(6)\n",
    "# string_search_pattern = r'\\\\MONACODA\\FocalData\\YOURDIRECTORYHERE\\1~Clinical\\*{}\\plan\\*\\*tel.1'.format(patientID)\n",
    "# string_search_pattern"
   ]
  },
  {
   "cell_type": "code",
   "execution_count": null,
   "metadata": {
    "collapsed": true
   },
   "outputs": [],
   "source": [
    "# filepath_list = glob(string_search_pattern)\n",
    "# filepath_list"
   ]
  },
  {
   "cell_type": "code",
   "execution_count": 6,
   "metadata": {
    "ExecuteTime": {
     "end_time": "2016-05-11T22:37:32.094490",
     "start_time": "2016-05-11T22:37:31.996228"
    },
    "collapsed": false
   },
   "outputs": [
    {
     "name": "stdout",
     "output_type": "stream",
     "text": [
      "Located applicator and energy strings for plans within telfile:\n",
      "['14X14']\n",
      "['YourMachineName - 15MeV']\n"
     ]
    }
   ],
   "source": [
    "telfilepath = \"example_monaco510_telfile\"\n",
    "electronmodel_regex = \"YourMachineName - \\d+MeV\"  # \\d+ stands for any positive integer\n",
    "\n",
    "with open(telfilepath, \"r\") as file:\n",
    "    telfilecontents = np.array(file.read().splitlines())\n",
    "\n",
    "electronmodel_index = []\n",
    "for i, item in enumerate(telfilecontents):\n",
    "    if re.search(electronmodel_regex, item):\n",
    "        electronmodel_index += [i]\n",
    "\n",
    "print(\"Located applicator and energy strings for plans within telfile:\")\n",
    "applicator_tel_string = [\n",
    "    telfilecontents[i+12]  # applicator string is located 12 lines below electron model name\n",
    "    for i in electronmodel_index]\n",
    "print(applicator_tel_string)\n",
    "\n",
    "energy_tel_string = [\n",
    "    telfilecontents[i]\n",
    "    for i in electronmodel_index]\n",
    "print(energy_tel_string)"
   ]
  },
  {
   "cell_type": "code",
   "execution_count": 7,
   "metadata": {
    "ExecuteTime": {
     "end_time": "2016-05-11T22:37:38.439844",
     "start_time": "2016-05-11T22:37:32.095529"
    },
    "collapsed": false
   },
   "outputs": [
    {
     "name": "stdout",
     "output_type": "stream",
     "text": [
      "Applicator = 14X14\n",
      "Energy = YourMachineName - 15MeV\n",
      "\n",
      "Width = 8.76 cm\n",
      "Length = 14.00 cm\n"
     ]
    },
    {
     "data": {
      "image/png": "[encoded data removed]",
      "text/plain": [
       "<matplotlib.figure.Figure at 0xb6590f0>"
      ]
     },
     "metadata": {},
     "output_type": "display_data"
    }
   ],
   "source": [
    "for i, index in enumerate(electronmodel_index):\n",
    "    print(\"Applicator = {}\".format(applicator_tel_string[i]))\n",
    "    print(\"Energy = {}\\n\".format(energy_tel_string[i]))\n",
    "    \n",
    "    insert_inital_range = telfilecontents[\n",
    "        index + 51::]  # coords start 51 lines after electron model name\n",
    "    insert_stop = np.where(\n",
    "        insert_inital_range=='0')[0][0]  # coords stop right before a line containing 0\n",
    "    \n",
    "    insert_coords_string = insert_inital_range[:insert_stop]\n",
    "    insert_coords = np.fromstring(','.join(insert_coords_string), sep=',')\n",
    "    x = insert_coords[0::2]/10\n",
    "    y = insert_coords[1::2]/10\n",
    "    \n",
    "    width, length, poi = parameterise_single_insert(x, y)\n",
    "    print(\"Width = {0:0.2f} cm\".format(width))\n",
    "    print(\"Length = {0:0.2f} cm\".format(length))\n",
    "    display_parameterisation(x, y, width, length, poi)"
   ]
  },
  {
   "cell_type": "markdown",
   "metadata": {},
   "source": [
    "### Direct from Eclipse&trade; server\n",
    "\n",
    "*Not yet implimented. If someone achieves this please contact me at [mail@simonbiggs.net](mailto:mail@simonbiggs.net) or create a pull request over at https://github.com/SimonBiggs/electroninserts_bundle*"
   ]
  },
  {
   "cell_type": "markdown",
   "metadata": {},
   "source": [
    "## Copyright information\n",
    "Copyright &#169; 2016  Simon Biggs\n",
    "\n",
    "This program is free software: you can redistribute it and/or modify\n",
    "it under the terms of the GNU Affero General Public License as published\n",
    "by the Free Software Foundation, either version 3 of the License, or\n",
    "(at your option) any later version.\n",
    "\n",
    "This program is distributed in the hope that it will be useful,\n",
    "but WITHOUT ANY WARRANTY; without even the implied warranty of\n",
    "MERCHANTABILITY or FITNESS FOR A PARTICULAR PURPOSE.  See the\n",
    "GNU Affero General Public License for more details.\n",
    "\n",
    "You should have received a copy of the GNU Affero General Public License\n",
    "along with this program.  If not, see <http://www.gnu.org/licenses/>."
   ]
  }
 ],
 "metadata": {
  "hide_input": false,
  "kernelspec": {
   "display_name": "Python 3",
   "language": "python",
   "name": "python3"
  },
  "language_info": {
   "codemirror_mode": {
    "name": "ipython",
    "version": 3
   },
   "file_extension": ".py",
   "mimetype": "text/x-python",
   "name": "python",
   "nbconvert_exporter": "python",
   "pygments_lexer": "ipython3",
   "version": "3.5.2"
  },
  "toc": {
   "toc_cell": true,
   "toc_number_sections": true,
   "toc_section_display": "block",
   "toc_threshold": 6,
   "toc_window_display": false
  },
  "toc_position": {
   "height": "508px",
   "left": "1655.38px",
   "right": "20px",
   "top": "120px",
   "width": "177px"
  },
  "widgets": {
   "state": {},
   "version": "1.1.2"
  }
 },
 "nbformat": 4,
 "nbformat_minor": 0
}
