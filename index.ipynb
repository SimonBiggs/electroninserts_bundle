{
 "cells": [
  {
   "cell_type": "markdown",
   "metadata": {},
   "source": [
    "# Bundled electron insert factors modelling example\n",
    "\n",
    "## Examples notebooks\n",
    "\n",
    " * [Example shape parameterisation.ipynb](Example shape parameterisation.ipynb)\n",
    " * [Model an insert shape.ipynb](Model an insert shape.ipynb)\n",
    " * [Update model data.ipynb](Update model data.ipynb)\n",
    "\n",
    "\n",
    "## Interface description\n",
    "\n",
    "This is a [jupyter notebook](http://jupyter.org). Code can be run by clicking the relevant cell and then pressing `Shift + Enter`. These notebooks have been designed so that the cells are to be run one after the other. You should observe the output of each cell before continuing onto the next cell.\n",
    "\n",
    "\n",
    "## Demo this notebook online\n",
    "Go to http://simonbiggs.net/electrondemo to use an online version of this notebook. This can be quickly trialled with your data to determine whether or not it is worth your while.\n",
    "\n",
    "This demo is using a free server available from http://mybinder.org. As such expect it to run relatively slow and at times not be available.\n",
    "\n",
    "This online demo will delete your session and all created models after a variable time of inactivity. Make sure to download your data and model report zip using the link at the very end of this notebook once you have run all the cells.\n",
    "\n",
    "## Project Description\n",
    "The code here provided is for the modelling of the portion of the electron output factor that is dependent on the shape of the shielding insert mounted within the applicator. This allows modelling insert factors using only the measured factors already available at a centre. Should all outliers be removed from the data set the user might expect as low as 0.5% standard uncertainty for factor prediction with as little as 8 data points.\n",
    "\n",
    "The paper outlining this method is the following:\n",
    " \n",
    " > Biggs, S., Sobolewski, M., Murry, R., & Kenny, J. (2015). Spline modelling electron insert factors using routine measurements. *Physica Medica: European Journal of Medical Physics*, Volume 32, Issue 1, 255 - 259. [doi:10.1016/j.ejmp.2015.11.002](http://dx.doi.org/10.1016/j.ejmp.2015.11.002). \n",
    "\n",
    "If you have any issues please don't hesitate to contact me at [mail@simonbiggs.net](mailto:mail@simonbiggs.net). I am more than happy to help or to receive any feedback. \n",
    "\n",
    "## Disclaimer\n",
    "\n",
    "Any use of the code accepts the [AGPL3+ license](../edit/LICENSE) which includes no warranty that this code is fit for a particular purpose. Attempts have been made to make the code transparent and it is recommended that an experienced python programmer and physicist who understands the procedure outlined in the paper and the requirements of your centre identifies whether or not this method and code is fit for your use.\n",
    "\n",
    "\n",
    "## Install this bundle on Windows\n",
    "\n",
    " * Download and install the relevant Anaconda Python 3 install from [continuum.io/downloads](https://www.continuum.io/downloads).\n",
    " * Download the zip file containing the bundle http://simonbiggs.net/electronbundle.\n",
    " * Extract the zip file.\n",
    " * Run `create_electroninserts_conda_env.bat` to create the frozen electroninserts environment to run this notebook.\n",
    " \n",
    "## Running the notebook server\n",
    "\n",
    " * Run `start_notebook_server_in_electroninserts_env.bat` to boot the jupyter notebook server within the electroninserts environment."
   ]
  },
  {
   "cell_type": "code",
   "execution_count": null,
   "metadata": {
    "collapsed": true
   },
   "outputs": [],
   "source": []
  }
 ],
 "metadata": {
  "kernelspec": {
   "display_name": "Python 3",
   "language": "python",
   "name": "python3"
  },
  "language_info": {
   "codemirror_mode": {
    "name": "ipython",
    "version": 3
   },
   "file_extension": ".py",
   "mimetype": "text/x-python",
   "name": "python",
   "nbconvert_exporter": "python",
   "pygments_lexer": "ipython3",
   "version": "3.5.2"
  }
 },
 "nbformat": 4,
 "nbformat_minor": 0
}
